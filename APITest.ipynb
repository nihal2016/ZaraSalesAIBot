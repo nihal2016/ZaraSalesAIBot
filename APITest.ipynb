{
 "cells": [
  {
   "cell_type": "code",
   "execution_count": 3,
   "id": "7551b421",
   "metadata": {},
   "outputs": [
    {
     "ename": "ValueError",
     "evalue": "Unable to parse spec from source https://services.odata.org/V2/Northwind/Northwind.svc?$format=json",
     "output_type": "error",
     "traceback": [
      "\u001b[1;31m---------------------------------------------------------------------------\u001b[0m",
      "\u001b[1;31mValueError\u001b[0m                                Traceback (most recent call last)",
      "Cell \u001b[1;32mIn[3], line 3\u001b[0m\n\u001b[0;32m      1\u001b[0m \u001b[38;5;28;01mfrom\u001b[39;00m \u001b[38;5;21;01mlangchain\u001b[39;00m\u001b[38;5;21;01m.\u001b[39;00m\u001b[38;5;21;01mchains\u001b[39;00m\u001b[38;5;21;01m.\u001b[39;00m\u001b[38;5;21;01mopenai_functions\u001b[39;00m\u001b[38;5;21;01m.\u001b[39;00m\u001b[38;5;21;01mopenapi\u001b[39;00m \u001b[38;5;28;01mimport\u001b[39;00m get_openapi_chain\n\u001b[1;32m----> 3\u001b[0m chain \u001b[38;5;241m=\u001b[39m get_openapi_chain(\u001b[38;5;124m\"\u001b[39m\u001b[38;5;124mhttps://services.odata.org/V2/Northwind/Northwind.svc?$format=json\u001b[39m\u001b[38;5;124m\"\u001b[39m)\n\u001b[0;32m      4\u001b[0m chain\u001b[38;5;241m.\u001b[39minvoke(\u001b[38;5;124m\"\u001b[39m\u001b[38;5;124mWhat are some options for a men\u001b[39m\u001b[38;5;124m'\u001b[39m\u001b[38;5;124ms large blue button down shirt\u001b[39m\u001b[38;5;124m\"\u001b[39m)\n",
      "File \u001b[1;32m~\\AppData\\Roaming\\Python\\Python311\\site-packages\\langchain\\chains\\openai_functions\\openapi.py:273\u001b[0m, in \u001b[0;36mget_openapi_chain\u001b[1;34m(spec, llm, prompt, request_chain, llm_chain_kwargs, verbose, headers, params, **kwargs)\u001b[0m\n\u001b[0;32m    271\u001b[0m             \u001b[38;5;28;01mpass\u001b[39;00m\n\u001b[0;32m    272\u001b[0m     \u001b[38;5;28;01mif\u001b[39;00m \u001b[38;5;28misinstance\u001b[39m(spec, \u001b[38;5;28mstr\u001b[39m):\n\u001b[1;32m--> 273\u001b[0m         \u001b[38;5;28;01mraise\u001b[39;00m \u001b[38;5;167;01mValueError\u001b[39;00m(\u001b[38;5;124mf\u001b[39m\u001b[38;5;124m\"\u001b[39m\u001b[38;5;124mUnable to parse spec from source \u001b[39m\u001b[38;5;132;01m{\u001b[39;00mspec\u001b[38;5;132;01m}\u001b[39;00m\u001b[38;5;124m\"\u001b[39m)\n\u001b[0;32m    274\u001b[0m openai_fns, call_api_fn \u001b[38;5;241m=\u001b[39m openapi_spec_to_openai_fn(spec)\n\u001b[0;32m    275\u001b[0m llm \u001b[38;5;241m=\u001b[39m llm \u001b[38;5;129;01mor\u001b[39;00m ChatOpenAI(\n\u001b[0;32m    276\u001b[0m     model\u001b[38;5;241m=\u001b[39m\u001b[38;5;124m\"\u001b[39m\u001b[38;5;124mgpt-3.5-turbo-0613\u001b[39m\u001b[38;5;124m\"\u001b[39m,\n\u001b[0;32m    277\u001b[0m )\n",
      "\u001b[1;31mValueError\u001b[0m: Unable to parse spec from source https://services.odata.org/V2/Northwind/Northwind.svc?$format=json"
     ]
    }
   ],
   "source": [
    "from langchain.chains.openai_functions.openapi import get_openapi_chain\n",
    "\n",
    "chain = get_openapi_chain(\"https://services.odata.org/V2/Northwind/Northwind.svc?$format=json\")\n",
    "chain.invoke(\"What are some options for a men's large blue button down shirt\")"
   ]
  },
  {
   "cell_type": "code",
   "execution_count": 5,
   "id": "5d8e4145",
   "metadata": {},
   "outputs": [
    {
     "ename": "ModuleNotFoundError",
     "evalue": "No module named 'odata2openapi'",
     "output_type": "error",
     "traceback": [
      "\u001b[1;31m---------------------------------------------------------------------------\u001b[0m",
      "\u001b[1;31mModuleNotFoundError\u001b[0m                       Traceback (most recent call last)",
      "Cell \u001b[1;32mIn[5], line 1\u001b[0m\n\u001b[1;32m----> 1\u001b[0m \u001b[38;5;28;01mimport\u001b[39;00m \u001b[38;5;21;01modata2openapi\u001b[39;00m\n\u001b[0;32m      3\u001b[0m \u001b[38;5;66;03m# Create an OData converter object\u001b[39;00m\n\u001b[0;32m      4\u001b[0m converter \u001b[38;5;241m=\u001b[39m odata2openapi\u001b[38;5;241m.\u001b[39mODataConverter()\n",
      "\u001b[1;31mModuleNotFoundError\u001b[0m: No module named 'odata2openapi'"
     ]
    }
   ],
   "source": [
    "import odata2openapi\n",
    "\n",
    "# Create an OData converter object\n",
    "converter = odata2openapi.ODataConverter()\n",
    "\n",
    "# Load the OData service\n",
    "converter.load_service('http://localhost:8080/odata/')\n",
    "\n",
    "# Convert the OData service to OpenAPI\n",
    "openapi_spec = converter.convert()\n",
    "\n",
    "# Save the OpenAPI spec to a file\n",
    "with open('openapi.yaml', 'w') as f:\n",
    "    f.write(openapi_spec)"
   ]
  },
  {
   "cell_type": "code",
   "execution_count": 7,
   "id": "27559e3d",
   "metadata": {},
   "outputs": [],
   "source": [
    "import pyodata\n",
    "import requests\n",
    "\n",
    "SERVICE_URL = 'http://services.odata.org/V2/Northwind/Northwind.svc/'\n",
    "\n",
    "northwind = pyodata.Client(SERVICE_URL, requests.Session())"
   ]
  },
  {
   "cell_type": "code",
   "execution_count": 10,
   "id": "402202f5",
   "metadata": {},
   "outputs": [
    {
     "name": "stdout",
     "output_type": "stream",
     "text": [
      "Nancy\n"
     ]
    },
    {
     "data": {
      "text/plain": [
       "[EntitySet(Categories),\n",
       " EntitySet(CustomerDemographics),\n",
       " EntitySet(Customers),\n",
       " EntitySet(Employees),\n",
       " EntitySet(Order_Details),\n",
       " EntitySet(Orders),\n",
       " EntitySet(Products),\n",
       " EntitySet(Regions),\n",
       " EntitySet(Shippers),\n",
       " EntitySet(Suppliers),\n",
       " EntitySet(Territories),\n",
       " EntitySet(Alphabetical_list_of_products),\n",
       " EntitySet(Category_Sales_for_1997),\n",
       " EntitySet(Current_Product_Lists),\n",
       " EntitySet(Customer_and_Suppliers_by_Cities),\n",
       " EntitySet(Invoices),\n",
       " EntitySet(Order_Details_Extendeds),\n",
       " EntitySet(Order_Subtotals),\n",
       " EntitySet(Orders_Qries),\n",
       " EntitySet(Product_Sales_for_1997),\n",
       " EntitySet(Products_Above_Average_Prices),\n",
       " EntitySet(Products_by_Categories),\n",
       " EntitySet(Sales_by_Categories),\n",
       " EntitySet(Sales_Totals_by_Amounts),\n",
       " EntitySet(Summary_of_Sales_by_Quarters),\n",
       " EntitySet(Summary_of_Sales_by_Years)]"
      ]
     },
     "execution_count": 10,
     "metadata": {},
     "output_type": "execute_result"
    }
   ],
   "source": [
    "employee1 = northwind.entity_sets.Employees.get_entity(1).execute()\n",
    "print(employee1.FirstName)\n",
    "northwind.schema.entity_sets"
   ]
  },
  {
   "cell_type": "code",
   "execution_count": 12,
   "id": "4271b59f",
   "metadata": {},
   "outputs": [
    {
     "name": "stdout",
     "output_type": "stream",
     "text": [
      "['Categories', 'CustomerDemographics', 'Customers', 'Employees', 'Order_Details', 'Orders', 'Products', 'Regions', 'Shippers', 'Suppliers', 'Territories', 'Alphabetical_list_of_products', 'Category_Sales_for_1997', 'Current_Product_Lists', 'Customer_and_Suppliers_by_Cities', 'Invoices', 'Order_Details_Extendeds', 'Order_Subtotals', 'Orders_Qries', 'Product_Sales_for_1997', 'Products_Above_Average_Prices', 'Products_by_Categories', 'Sales_by_Categories', 'Sales_Totals_by_Amounts', 'Summary_of_Sales_by_Quarters', 'Summary_of_Sales_by_Years']\n"
     ]
    }
   ],
   "source": [
    "entity_set_names = [es.name for es in northwind.schema.entity_sets]\n",
    "print(entity_set_names)"
   ]
  },
  {
   "cell_type": "code",
   "execution_count": 14,
   "id": "232c58c5",
   "metadata": {},
   "outputs": [],
   "source": [
    "import xmltodict\n",
    "import yaml\n",
    "\n"
   ]
  },
  {
   "cell_type": "code",
   "execution_count": null,
   "id": "f5fa73a6",
   "metadata": {},
   "outputs": [],
   "source": []
  }
 ],
 "metadata": {
  "kernelspec": {
   "display_name": "Python 3 (ipykernel)",
   "language": "python",
   "name": "python3"
  },
  "language_info": {
   "codemirror_mode": {
    "name": "ipython",
    "version": 3
   },
   "file_extension": ".py",
   "mimetype": "text/x-python",
   "name": "python",
   "nbconvert_exporter": "python",
   "pygments_lexer": "ipython3",
   "version": "3.11.5"
  }
 },
 "nbformat": 4,
 "nbformat_minor": 5
}
